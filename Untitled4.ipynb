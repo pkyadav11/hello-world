{
 "cells": [
  {
   "cell_type": "code",
   "execution_count": null,
   "metadata": {},
   "outputs": [],
   "source": [
    "def swapcase(s1):\n",
    "    s2=''\n",
    "    for char in s1:\n",
    "        if char.islower():\n",
    "            s2=s2+s1.upper()\n",
    "        else:\n",
    "            s2=s2+s1.lower()\n",
    "    return s2\n",
    "    \n",
    "s1=input('enter string')\n",
    "swapcase(s1)"
   ]
  },
  {
   "cell_type": "code",
   "execution_count": 16,
   "metadata": {},
   "outputs": [
    {
     "name": "stdout",
     "output_type": "stream",
     "text": [
      "this IS a STRING\n"
     ]
    }
   ],
   "source": [
    "mystring = \"THIS is A string\"\n",
    "newstring = \"\"\n",
    "for item in mystring:\n",
    "    if item.isupper():\n",
    "        newstring += item.lower()\n",
    "    else:\n",
    "        newstring += item.upper()\n",
    "\n",
    "print (newstring)\n"
   ]
  },
  {
   "cell_type": "code",
   "execution_count": null,
   "metadata": {
    "collapsed": true
   },
   "outputs": [],
   "source": []
  }
 ],
 "metadata": {
  "kernelspec": {
   "display_name": "Python 3",
   "language": "python",
   "name": "python3"
  },
  "language_info": {
   "codemirror_mode": {
    "name": "ipython",
    "version": 3
   },
   "file_extension": ".py",
   "mimetype": "text/x-python",
   "name": "python",
   "nbconvert_exporter": "python",
   "pygments_lexer": "ipython3",
   "version": "3.6.3"
  }
 },
 "nbformat": 4,
 "nbformat_minor": 2
}
