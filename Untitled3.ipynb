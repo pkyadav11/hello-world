{
 "cells": [
  {
   "cell_type": "code",
   "execution_count": 6,
   "metadata": {
    "collapsed": true
   },
   "outputs": [],
   "source": [
    "lista=[1,2,4,3,3,2,1,1,1,2,34,1,1,1,3,45,5,23,1,2,3,3,3,3,3,3,3,3,]\n",
    "count={}\n",
    "def mostfreq():\n",
    "    for i in lista:\n",
    "        if i in lista:\n",
    "            count[i]=count+1\n",
    "            num=i\n",
    "        else:\n",
    "            count[i]=1\n",
    "            print(i)\n"
   ]
  },
  {
   "cell_type": "code",
   "execution_count": 7,
   "metadata": {},
   "outputs": [
    {
     "ename": "NameError",
     "evalue": "name 'sdfdf' is not defined",
     "output_type": "error",
     "traceback": [
      "\u001b[1;31m---------------------------------------------------------------------------\u001b[0m",
      "\u001b[1;31mNameError\u001b[0m                                 Traceback (most recent call last)",
      "\u001b[1;32m<ipython-input-7-71d0fc0aa1f9>\u001b[0m in \u001b[0;36m<module>\u001b[1;34m()\u001b[0m\n\u001b[1;32m----> 1\u001b[1;33m \u001b[0mprint\u001b[0m\u001b[1;33m(\u001b[0m\u001b[0msdfdf\u001b[0m\u001b[1;33m)\u001b[0m\u001b[1;33m\u001b[0m\u001b[0m\n\u001b[0m",
      "\u001b[1;31mNameError\u001b[0m: name 'sdfdf' is not defined"
     ]
    }
   ],
   "source": [
    "print(sdfdf)"
   ]
  },
  {
   "cell_type": "code",
   "execution_count": 5,
   "metadata": {
    "collapsed": true
   },
   "outputs": [],
   "source": [
    "lista=[1,2,4,3,3,2,1,1,1,2,34,1,1,1,3,45,5,23,1,2,3,3,3,3,3,3,3,3,]\n",
    "count={}\n",
    "def mostfreq():\n",
    "    print('hello bithces')\n",
    "    for i in lista:\n",
    "        if i in lista:\n",
    "            count[i]=count+1\n",
    "            num=i\n",
    "            print(i)\n",
    "        else:\n",
    "            count[i]=1\n",
    "            print(i)"
   ]
  },
  {
   "cell_type": "code",
   "execution_count": null,
   "metadata": {
    "collapsed": true
   },
   "outputs": [],
   "source": []
  }
 ],
 "metadata": {
  "kernelspec": {
   "display_name": "Python 3",
   "language": "python",
   "name": "python3"
  },
  "language_info": {
   "codemirror_mode": {
    "name": "ipython",
    "version": 3
   },
   "file_extension": ".py",
   "mimetype": "text/x-python",
   "name": "python",
   "nbconvert_exporter": "python",
   "pygments_lexer": "ipython3",
   "version": "3.6.3"
  }
 },
 "nbformat": 4,
 "nbformat_minor": 2
}
