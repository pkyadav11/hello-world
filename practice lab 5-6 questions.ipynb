{
 "cells": [
  {
   "cell_type": "code",
   "execution_count": 2,
   "metadata": {},
   "outputs": [
    {
     "name": "stdout",
     "output_type": "stream",
     "text": [
      "no vowels\n"
     ]
    },
    {
     "data": {
      "text/plain": [
       "0"
      ]
     },
     "execution_count": 2,
     "metadata": {},
     "output_type": "execute_result"
    }
   ],
   "source": [
    "def vowel(s):\n",
    "    count=0\n",
    "    for char in s:\n",
    "        if char in s==['a','e','u','o','i']:\n",
    "            count+=1\n",
    "        else:\n",
    "            print('no vowels')\n",
    "        return count\n",
    "vowel('sexxyydfhskj')"
   ]
  },
  {
   "cell_type": "code",
   "execution_count": null,
   "metadata": {
    "collapsed": true
   },
   "outputs": [],
   "source": [
    "vowels='aeiou'\n",
    "def checkv(string):\n",
    "    for char in vowels:\n",
    "        if char in string:\n",
    "            print(char,'  ',char.count(char))\n",
    "            \n",
    "string=input('Enter String').lower()\n",
    "checkv('helloEVRYUIfdsae')\n",
    "        "
   ]
  },
  {
   "cell_type": "code",
   "execution_count": null,
   "metadata": {
    "collapsed": true
   },
   "outputs": [],
   "source": [
    "vowels = 'aeiou'\n",
    "\n",
    "def vowel_count(txt):\n",
    "    for vowel in vowels:\n",
    "        if vowel in txt:\n",
    "            print (vowel, txt.count(vowel))\n",
    "\n",
    "txt_input = input('Enter text: ').lower()\n",
    "\n",
    "vowel_count(txt_input)"
   ]
  },
  {
   "cell_type": "code",
   "execution_count": null,
   "metadata": {
    "collapsed": true
   },
   "outputs": [],
   "source": [
    "def chaek(s):\n",
    "    count=0\n",
    "    for char in s:\n",
    "        if (char==''a'' or char==''e'' or char==''o'' or char==''i'' or char=='u'):\n",
    "            count+=1\n",
    "            return count\n",
    "chaek('aeipour')"
   ]
  },
  {
   "cell_type": "code",
   "execution_count": null,
   "metadata": {
    "collapsed": true
   },
   "outputs": [],
   "source": [
    "def lowup_count(s1):\n",
    "    cup=0\n",
    "    clow=0\n",
    "    for char in s1:\n",
    "        if char.isupper():\n",
    "            cup+=1\n",
    "        else:\n",
    "            clow+=1\n",
    "    print('upper count: ',cup,\" \",'lower count',clow)\n",
    "    \n",
    "lowup_count('helloBROUTHER')"
   ]
  },
  {
   "cell_type": "code",
   "execution_count": null,
   "metadata": {
    "collapsed": true
   },
   "outputs": [],
   "source": [
    "def max_sum_of_two_digits(num):\n",
    "    "
   ]
  },
  {
   "cell_type": "code",
   "execution_count": 4,
   "metadata": {},
   "outputs": [
    {
     "data": {
      "text/plain": [
       "7"
      ]
     },
     "execution_count": 4,
     "metadata": {},
     "output_type": "execute_result"
    }
   ],
   "source": [
    "def sum_digits(n):\n",
    "    s = 0\n",
    "    while n:\n",
    "        s =s+n % 10\n",
    "        n //= 10\n",
    "    return s\n",
    "\n",
    "sum_digits(25)"
   ]
  },
  {
   "cell_type": "code",
   "execution_count": null,
   "metadata": {
    "collapsed": true
   },
   "outputs": [],
   "source": []
  },
  {
   "cell_type": "code",
   "execution_count": null,
   "metadata": {
    "collapsed": true
   },
   "outputs": [],
   "source": []
  }
 ],
 "metadata": {
  "kernelspec": {
   "display_name": "Python 3",
   "language": "python",
   "name": "python3"
  },
  "language_info": {
   "codemirror_mode": {
    "name": "ipython",
    "version": 3
   },
   "file_extension": ".py",
   "mimetype": "text/x-python",
   "name": "python",
   "nbconvert_exporter": "python",
   "pygments_lexer": "ipython3",
   "version": "3.6.3"
  }
 },
 "nbformat": 4,
 "nbformat_minor": 2
}
