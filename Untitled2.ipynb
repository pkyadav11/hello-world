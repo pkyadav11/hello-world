{
 "cells": [
  {
   "cell_type": "code",
   "execution_count": 2,
   "metadata": {},
   "outputs": [
    {
     "name": "stdout",
     "output_type": "stream",
     "text": [
      "eneter 1st number34\n",
      "enetrr 2nd no.74\n",
      "1\n",
      "2\n",
      "17\n",
      "1\n",
      "2\n",
      "37\n"
     ]
    }
   ],
   "source": [
    "a=int(input('eneter 1st number'))\n",
    "b=int(input('enetrr 2nd no.'))\n",
    "for n in range(1,a):\n",
    "    if a%n==0:\n",
    "        print (n)\n",
    "for m in range(1,b):\n",
    "    if b%m==0:\n",
    "        print(m)\n",
    "if m==n:\n",
    "    print(\"gcd are: \",m)\n",
    "    "
   ]
  },
  {
   "cell_type": "code",
   "execution_count": 15,
   "metadata": {},
   "outputs": [
    {
     "name": "stdout",
     "output_type": "stream",
     "text": [
      "a: 45\n",
      "b: 35\n",
      "a: 34\n",
      "b: 45\n",
      "1\n"
     ]
    }
   ],
   "source": [
    "\n",
    "gcd(a,b)\n",
    "def gcd(a,b):\n",
    "    if a>b:\n",
    "        small=b\n",
    "    else:\n",
    "        small=a\n",
    "    for i in range(1,small+1):\n",
    "        if a%i==0 and b%i==0:\n",
    "            gcdd=i\n",
    "    return gcdd\n",
    "\n"
   ]
  },
  {
   "cell_type": "markdown",
   "metadata": {},
   "source": [
    "#### "
   ]
  },
  {
   "cell_type": "code",
   "execution_count": 24,
   "metadata": {},
   "outputs": [
    {
     "name": "stdout",
     "output_type": "stream",
     "text": [
      "give x12\n",
      "give x23\n",
      "give x33\n",
      "give x44\n",
      "2\n"
     ]
    }
   ],
   "source": [
    "\n",
    "def dist(x1,x2,y1,y2):\n",
    "    distance=((x1-x2)**2 + (y1-y2)**2)\n",
    "    print(distance)\n",
    "\n",
    "x1=int(input('give x1'))\n",
    "x2=int(input('give x2'))\n",
    "y1=int(input('give x3'))\n",
    "y2=int(input('give x4'))    \n",
    "dist(x1,x2,y1,y2)\n"
   ]
  },
  {
   "cell_type": "code",
   "execution_count": 1,
   "metadata": {},
   "outputs": [
    {
     "ename": "NameError",
     "evalue": "name 'a' is not defined",
     "output_type": "error",
     "traceback": [
      "\u001b[1;31m---------------------------------------------------------------------------\u001b[0m",
      "\u001b[1;31mNameError\u001b[0m                                 Traceback (most recent call last)",
      "\u001b[1;32m<ipython-input-1-e83af3866ba2>\u001b[0m in \u001b[0;36m<module>\u001b[1;34m()\u001b[0m\n\u001b[0;32m      6\u001b[0m             \u001b[0mprint\u001b[0m\u001b[1;33m(\u001b[0m\u001b[1;34m'it is a vowel'\u001b[0m\u001b[1;33m)\u001b[0m\u001b[1;33m\u001b[0m\u001b[0m\n\u001b[0;32m      7\u001b[0m \u001b[1;31m#z=input('character to check its vowel or not')\u001b[0m\u001b[1;33m\u001b[0m\u001b[1;33m\u001b[0m\u001b[0m\n\u001b[1;32m----> 8\u001b[1;33m \u001b[0mcheck_vowel\u001b[0m\u001b[1;33m(\u001b[0m\u001b[0ma\u001b[0m\u001b[1;33m)\u001b[0m\u001b[1;33m\u001b[0m\u001b[0m\n\u001b[0m",
      "\u001b[1;31mNameError\u001b[0m: name 'a' is not defined"
     ]
    }
   ],
   "source": [
    "\n",
    "def check_vowel(z):\n",
    "    v=['a','e','i','o','u']\n",
    "    for m in v:\n",
    "        if m==z:\n",
    "            print('it is a vowel')\n",
    "#z=input('character to check its vowel or not')\n",
    "check_vowel(a)"
   ]
  },
  {
   "cell_type": "code",
   "execution_count": 1,
   "metadata": {},
   "outputs": [
    {
     "name": "stdout",
     "output_type": "stream",
     "text": [
      "Input a letter of the alphabet: ghhjghjgjhgjha\n",
      "ghhjghjgjhgjha is a consonant.\n"
     ]
    }
   ],
   "source": [
    "l = input(\"Input a letter of the alphabet: \")\n",
    "\n",
    "if l in ('a', 'e', 'i', 'o', 'u'):\n",
    "\tprint(\"%s is a vowel.\" % l)\n",
    "elif l == 'y':\n",
    "\tprint(\"Sometimes letter y stand for vowel, sometimes stand for consonant.\")\n",
    "else:\n",
    "\tprint(\"%s is a consonant.\" % l) "
   ]
  },
  {
   "cell_type": "code",
   "execution_count": 22,
   "metadata": {},
   "outputs": [
    {
     "name": "stdout",
     "output_type": "stream",
     "text": [
      "\n",
      "1\n",
      "22\n",
      "333\n",
      "4444\n",
      "55555\n",
      "666666\n",
      "55555\n",
      "4444\n",
      "333\n",
      "22\n",
      "1\n"
     ]
    }
   ],
   "source": [
    "n=6\n",
    "for i in range(n):\n",
    "    for m in range(i):\n",
    "        print(i,end='')\n",
    "    print('')\n",
    "for h in range(n,0,-1):\n",
    "    for b in range(h):\n",
    "        print(h,end=\"\")\n",
    "    print('')\n",
    "        "
   ]
  },
  {
   "cell_type": "code",
   "execution_count": 23,
   "metadata": {},
   "outputs": [
    {
     "name": "stdout",
     "output_type": "stream",
     "text": [
      "\n",
      "1\n",
      "22\n",
      "333\n",
      "4444\n",
      "55555\n"
     ]
    }
   ],
   "source": [
    "n=6\n",
    "for i in range(n,0,-1):\n",
    "    for m in range(i):\n",
    "        print(i,end='')\n",
    "    print('')"
   ]
  },
  {
   "cell_type": "raw",
   "metadata": {
    "collapsed": true
   },
   "source": [
    "string='helpppankaj'\n",
    "for ch in string:\n",
    "    if(ch=='a' or ch=='A' or ch=='e' or ch=='E' or ch=='i' or ch=='I' or ch=='o' or ch=='O' or ch=='u' or ch=='U'):\n",
    "    print('')\n",
    "    print('vowels')\n",
    "         "
   ]
  },
  {
   "cell_type": "code",
   "execution_count": 11,
   "metadata": {},
   "outputs": [
    {
     "name": "stdout",
     "output_type": "stream",
     "text": [
      "666666\n",
      "55555\n",
      "4444\n",
      "333\n",
      "22\n",
      "1\n"
     ]
    }
   ],
   "source": [
    "n=5\n",
    "for i in range(6,0,-1):\n",
    "    for j in range():\n",
    "        print(j,end='')\n",
    "    print('')"
   ]
  },
  {
   "cell_type": "code",
   "execution_count": 12,
   "metadata": {},
   "outputs": [
    {
     "ename": "IndentationError",
     "evalue": "expected an indented block (<ipython-input-12-6079c49b98f7>, line 5)",
     "output_type": "error",
     "traceback": [
      "\u001b[1;36m  File \u001b[1;32m\"<ipython-input-12-6079c49b98f7>\"\u001b[1;36m, line \u001b[1;32m5\u001b[0m\n\u001b[1;33m    print(end=\" \")\u001b[0m\n\u001b[1;37m                  ^\u001b[0m\n\u001b[1;31mIndentationError\u001b[0m\u001b[1;31m:\u001b[0m expected an indented block\n"
     ]
    }
   ],
   "source": [
    "\t\t\n",
    "k = 8\n",
    "for i in range(0, 5):\n",
    "\tfor j in range(0, k):\n",
    "\t\tprint(end=\" \")\n",
    "\tk = k - 2\n",
    "\tfor j in range(0, i+1):\n",
    "\t\tprint(\"* \", end=\"\")\n",
    "\tprint()"
   ]
  },
  {
   "cell_type": "code",
   "execution_count": 24,
   "metadata": {},
   "outputs": [
    {
     "name": "stdout",
     "output_type": "stream",
     "text": [
      "nnnnnnnn* \n",
      "nnnnnn* * \n",
      "nnnn* * * \n",
      "nn* * * * \n",
      "* * * * * \n"
     ]
    }
   ],
   "source": [
    "k=8\n",
    "for i in  range(0,5):\n",
    "    for j in range(0,k):\n",
    "        print(end='n')\n",
    "    k=k-2\n",
    "    for j in range(0,i+1):\n",
    "        print('* ',end='')\n",
    "    print()"
   ]
  },
  {
   "cell_type": "code",
   "execution_count": 21,
   "metadata": {},
   "outputs": [
    {
     "name": "stdout",
     "output_type": "stream",
     "text": [
      "\n",
      "1 \n",
      "2 1 \n",
      "3 2 1 \n",
      "4 3 2 1 \n"
     ]
    }
   ],
   "source": [
    "for i in range(0,5):\n",
    "    for j in range(i,0,-1):\n",
    "        print(j,end=' ')\n",
    "    print('')"
   ]
  },
  {
   "cell_type": "code",
   "execution_count": 25,
   "metadata": {},
   "outputs": [
    {
     "data": {
      "text/plain": [
       "19"
      ]
     },
     "execution_count": 25,
     "metadata": {},
     "output_type": "execute_result"
    }
   ],
   "source": [
    "def sod(n):\n",
    "    if n==0:\n",
    "        return 0\n",
    "    else:\n",
    "        return (n%10 + sod(n//10))\n",
    "sod(4357)"
   ]
  },
  {
   "cell_type": "code",
   "execution_count": null,
   "metadata": {
    "collapsed": true
   },
   "outputs": [],
   "source": []
  }
 ],
 "metadata": {
  "kernelspec": {
   "display_name": "Python 3",
   "language": "python",
   "name": "python3"
  },
  "language_info": {
   "codemirror_mode": {
    "name": "ipython",
    "version": 3
   },
   "file_extension": ".py",
   "mimetype": "text/x-python",
   "name": "python",
   "nbconvert_exporter": "python",
   "pygments_lexer": "ipython3",
   "version": "3.6.3"
  }
 },
 "nbformat": 4,
 "nbformat_minor": 2
}
